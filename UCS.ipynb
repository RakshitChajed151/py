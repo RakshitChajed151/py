{
 "cells": [
  {
   "cell_type": "code",
   "execution_count": 1,
   "metadata": {},
   "outputs": [
    {
     "name": "stdout",
     "output_type": "stream",
     "text": [
      "Shortest Path: A->C->F\n"
     ]
    }
   ],
   "source": [
    "\n",
    "import heapq  # Import the heapq module for the priority queue  \n",
    "  \n",
    "def uniform_cost_search(graph, start, goal):  \n",
    "    # Priority queue to store nodes with their costs  \n",
    "    pq = []  \n",
    "    heapq.heappush(pq, (0, start))  # Add start node with cost 0  \n",
    "    costs = {node: float('inf') for node in graph}  # Initialize costs to infinity  \n",
    "    costs[start] = 0  # Cost to reach the start node is 0  \n",
    "    parents = {}  # Parent nodes  \n",
    "    visited = set()  # Visited nodes  \n",
    "  \n",
    "    while pq:  \n",
    "        # Dequeue node with the lowest cost  \n",
    "        current_cost, current_node = heapq.heappop(pq)  \n",
    "  \n",
    "        if current_node == goal:  \n",
    "            return construct_path(parents, goal)  \n",
    "  \n",
    "        if current_node in visited:  \n",
    "            continue  \n",
    "  \n",
    "        visited.add(current_node)  \n",
    "  \n",
    "        # Explore neighbors  \n",
    "        for neighbor, cost in graph[current_node].items():  \n",
    "            new_cost = costs[current_node] + cost  \n",
    "  \n",
    "            if new_cost < costs[neighbor]:  \n",
    "                costs[neighbor] = new_cost  \n",
    "                parents[neighbor] = current_node  \n",
    "                heapq.heappush(pq, (new_cost, neighbor))  \n",
    "  \n",
    "    return \"No path found\"  \n",
    "  \n",
    "def construct_path(parents, goal):  \n",
    "    path = []  \n",
    "    current_node = goal  \n",
    "  \n",
    "    while current_node is not None:  \n",
    "        path.append(current_node)  \n",
    "        current_node = parents.get(current_node)  \n",
    "  \n",
    "    return list(reversed(path))  \n",
    "  \n",
    "# Example usage:  \n",
    "graph = {  \n",
    "    'A': {'B': 1, 'C': 4},  \n",
    "    'B': {'D': 3, 'E': 7},  \n",
    "    'C': {'F': 2},  \n",
    "    'D': {'F': 5},  \n",
    "    'E': {'F': 2},  \n",
    "    'F': {}  \n",
    "}  \n",
    "  \n",
    "start_node = 'A'  \n",
    "goal_node = 'F'  \n",
    "path = uniform_cost_search(graph, start_node, goal_node)  \n",
    "  \n",
    "if path != \"No path found\":  \n",
    "    print(\"Shortest Path:\", \"->\".join(path))  \n",
    "else:  \n",
    "    print(\"No path found\")  \n"
   ]
  },
  {
   "cell_type": "code",
   "execution_count": null,
   "metadata": {},
   "outputs": [],
   "source": []
  }
 ],
 "metadata": {
  "kernelspec": {
   "display_name": "Python 3",
   "language": "python",
   "name": "python3"
  },
  "language_info": {
   "codemirror_mode": {
    "name": "ipython",
    "version": 3
   },
   "file_extension": ".py",
   "mimetype": "text/x-python",
   "name": "python",
   "nbconvert_exporter": "python",
   "pygments_lexer": "ipython3",
   "version": "3.13.1"
  }
 },
 "nbformat": 4,
 "nbformat_minor": 2
}
