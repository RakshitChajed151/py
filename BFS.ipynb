{
 "cells": [
  {
   "cell_type": "code",
   "execution_count": 26,
   "metadata": {},
   "outputs": [],
   "source": [
    "from collections import deque\n",
    "def bfs(graph,start,goal):\n",
    "    queue=deque([start])\n",
    "    visited=set([start])\n",
    "    parent={start: None}\n",
    "    while queue:\n",
    "        node=queue.popleft()\n",
    "        if node==goal:\n",
    "            path=[]\n",
    "            while node is not None:\n",
    "                path.append(node)\n",
    "                node=parent[node]\n",
    "            return path[::-1]\n",
    "        for neighbor in graph[node]:\n",
    "            if neighbor not in visited:\n",
    "                visited.add(neighbor)\n",
    "                queue.append(neighbor)\n",
    "                parent[neighbor]=node\n",
    "    return None\n",
    "            "
   ]
  },
  {
   "cell_type": "code",
   "execution_count": 29,
   "metadata": {},
   "outputs": [
    {
     "name": "stdout",
     "output_type": "stream",
     "text": [
      "Path Found: ['A', 'C', 'F']\n"
     ]
    }
   ],
   "source": [
    "graph={\n",
    "        'A':['B','C'],\n",
    "        'B':['A','D','E'],\n",
    "        'C':['A','F'],\n",
    "        'D':['B'],\n",
    "        'E':['B','F'],\n",
    "        'F':['C','E']\n",
    "}\n",
    "#bfs=(graph,'A')\n",
    "start_node='A'\n",
    "goal_node='F'\n",
    "path=bfs(graph,start_node ,goal_node )\n",
    "print(\"Path Found:\",path)"
   ]
  },
  {
   "cell_type": "code",
   "execution_count": null,
   "metadata": {},
   "outputs": [],
   "source": []
  }
 ],
 "metadata": {
  "kernelspec": {
   "display_name": "Python 3",
   "language": "python",
   "name": "python3"
  },
  "language_info": {
   "codemirror_mode": {
    "name": "ipython",
    "version": 3
   },
   "file_extension": ".py",
   "mimetype": "text/x-python",
   "name": "python",
   "nbconvert_exporter": "python",
   "pygments_lexer": "ipython3",
   "version": "3.13.1"
  }
 },
 "nbformat": 4,
 "nbformat_minor": 2
}
